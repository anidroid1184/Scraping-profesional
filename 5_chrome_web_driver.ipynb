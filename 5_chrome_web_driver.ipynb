{
 "cells": [
  {
   "cell_type": "markdown",
   "id": "ac9bb930",
   "metadata": {},
   "source": [
    "# 1. Dependencias\n",
    "Descargamos el chrome driver: https://sites.google.com/chromiun.org/driver/downloads\n",
    "\n",
    "E instalamos las dependencias necesarias"
   ]
  },
  {
   "cell_type": "code",
   "execution_count": null,
   "id": "40b257fa",
   "metadata": {},
   "outputs": [],
   "source": [
    "# pip install selenium webdriver-manager"
   ]
  },
  {
   "cell_type": "code",
   "execution_count": 14,
   "id": "854e32d3",
   "metadata": {},
   "outputs": [],
   "source": [
    "import time\n",
    "from bs4 import BeautifulSoup\n",
    "\n",
    "from selenium import webdriver\n",
    "from selenium.webdriver.chrome.service import Service"
   ]
  },
  {
   "cell_type": "markdown",
   "id": "7109f4a4",
   "metadata": {},
   "source": [
    "# 2. Configuración del Servicio y Driver"
   ]
  },
  {
   "cell_type": "code",
   "execution_count": 15,
   "id": "52564672",
   "metadata": {},
   "outputs": [],
   "source": [
    "# Ruta del chrome driver\n",
    "chrome_driver_path = \"chromedriver.exe\" #  El archivo que está en la carpeta\n",
    "\n",
    "\n",
    "# Opcional: configurar opciones\n",
    "options = webdriver.ChromeOptions()\n",
    "options.add_argument(\"--start-maximized\") #  Iniciar en pantalla completa\n",
    "# Hacer menos detectable el scraper\n",
    "options.add_argument(\"--disable-blink-features=AutomationControlled\")\n",
    "\n",
    "\n",
    "# Crear el servicio y el driver\n",
    "service = Service(executable_path=chrome_driver_path)\n",
    "driver = webdriver.Chrome(service=service, options=options)\n",
    "\n"
   ]
  },
  {
   "cell_type": "markdown",
   "id": "d5c09517",
   "metadata": {},
   "source": [
    "# 3. Definir URL\n",
    "\n"
   ]
  },
  {
   "cell_type": "code",
   "execution_count": 16,
   "id": "8e3c86b8",
   "metadata": {},
   "outputs": [],
   "source": [
    "# abrir la url\n",
    "url = \"http://quotes.toscrape.com/scroll\"\n",
    "driver.get(url)\n",
    "\n",
    "# Esperar un momento a que se renderizen las frases\n",
    "time.sleep(3)"
   ]
  },
  {
   "cell_type": "markdown",
   "id": "753bd6d1",
   "metadata": {},
   "source": [
    "# 4. Manipular Renderizado"
   ]
  },
  {
   "cell_type": "code",
   "execution_count": 17,
   "id": "0eaac468",
   "metadata": {},
   "outputs": [
    {
     "name": "stdout",
     "output_type": "stream",
     "text": [
      "Citas encontradas:  10\n",
      "“The world as we have created it is a process of our thinking. It cannot be changed without changing our thinking.” - Albert Einstein\n",
      "“It is our choices, Harry, that show what we truly are, far more than our abilities.” - J.K. Rowling\n",
      "“There are only two ways to live your life. One is as though nothing is a miracle. The other is as though everything is a miracle.” - Albert Einstein\n",
      "“The person, be it gentleman or lady, who has not pleasure in a good novel, must be intolerably stupid.” - Jane Austen\n",
      "“Imperfection is beauty, madness is genius and it's better to be absolutely ridiculous than absolutely boring.” - Marilyn Monroe\n",
      "“Try not to become a man of success. Rather become a man of value.” - Albert Einstein\n",
      "“It is better to be hated for what you are than to be loved for what you are not.” - André Gide\n",
      "“I have not failed. I've just found 10,000 ways that won't work.” - Thomas A. Edison\n",
      "“A woman is like a tea bag; you never know how strong it is until it's in hot water.” - Eleanor Roosevelt\n",
      "“A day without sunshine is like, you know, night.” - Steve Martin\n"
     ]
    }
   ],
   "source": [
    "# Obtener HMTL renderizado\n",
    "html = driver.page_source\n",
    "driver.quit()\n",
    "\n",
    "# Procesar el HTML con BeutifulSoup\n",
    "soup = BeautifulSoup(html, \"html.parser\")\n",
    "# buscar el elemento que contiene las frases\n",
    "quotes = soup.select(\"div.quote\")\n",
    "\n",
    "print(\"Citas encontradas: \", len(quotes)) # obtenemos las citas\n",
    "\n",
    "# guardar cada cita\n",
    "for quote in quotes:\n",
    "    text = quote.find(\"span\", class_=\"text\").get_text()\n",
    "    author = quote.find(\"small\", class_=\"author\").get_text()\n",
    "    print(f\"{text} - {author}\")\n"
   ]
  },
  {
   "cell_type": "markdown",
   "id": "f917eb21",
   "metadata": {},
   "source": [
    "# 6. Scroll infinito"
   ]
  },
  {
   "cell_type": "code",
   "execution_count": 33,
   "id": "f67cd07d",
   "metadata": {},
   "outputs": [],
   "source": [
    "# Ruta del chrome driver\n",
    "chrome_driver_path = \"chromedriver.exe\"  # El archivo que está en la carpeta\n",
    "\n",
    "\n",
    "# Opcional: configurar opciones\n",
    "options = webdriver.ChromeOptions()\n",
    "options.add_argument(\"--start-maximized\")  # Iniciar en pantalla completa\n",
    "# Hacer menos detectable el scraper\n",
    "options.add_argument(\"--disable-blink-features=AutomationControlled\")\n",
    "\n",
    "\n",
    "# Crear el servicio y el driver\n",
    "service = Service(executable_path=chrome_driver_path)\n",
    "driver = webdriver.Chrome(service=service, options=options)"
   ]
  },
  {
   "cell_type": "code",
   "execution_count": 34,
   "id": "4099ab69",
   "metadata": {},
   "outputs": [],
   "source": [
    "# abrir la url\n",
    "url = \"http://quotes.toscrape.com/scroll\"\n",
    "driver.get(url)\n",
    "\n",
    "# Esperar un momento a que se renderizen las frases\n",
    "time.sleep(3)"
   ]
  },
  {
   "cell_type": "code",
   "execution_count": 35,
   "id": "cd241af2",
   "metadata": {},
   "outputs": [],
   "source": [
    "# import necesario para la implementación\n",
    "from selenium.webdriver.common.by import By\n",
    "\n",
    "\n",
    "SCROLL_PAUSE_TIME = 2\n",
    "# obtenemos la altura del sitio, indispensable para el scroll\n",
    "last_height = driver.execute_script(\"return document.body.scrollHeight\")\n",
    "quotes_set = set()\n",
    "\n",
    "# Desplazarse varias veces\n",
    "for i in range(10):\n",
    "    # hacer el scrool\n",
    "    driver.execute_script(\"window.scrollTo(0, document.body.scrollHeight);\")\n",
    "    # tiempo de pausa para esperar que se renderice\n",
    "    new_height = driver.execute_script(\"return document.body.scrollHeight\")\n",
    "\n",
    "    # Extraer las nuevas frases cargadas en está iteración\n",
    "    quotes = driver.find_elements(By.CLASS_NAME, \"quote\")\n",
    "    # Procesar los datos obtenidos\n",
    "    for quote in quotes:\n",
    "        # obtener cada frase\n",
    "        text = quote.find_element(By.CLASS_NAME, \"text\").text\n",
    "        # añadirla a la lista de frases\n",
    "        quotes_set.add(text)\n",
    "\n",
    "    # si llega al final se cierra\n",
    "    if new_height == last_height:\n",
    "        break\n",
    "\n",
    "    # se obtiene la nueva altura\n",
    "    last_height = new_height\n",
    "\n",
    "driver.quit()"
   ]
  },
  {
   "cell_type": "code",
   "execution_count": 36,
   "id": "9f93bb7a",
   "metadata": {},
   "outputs": [
    {
     "name": "stdout",
     "output_type": "stream",
     "text": [
      "Total de frases únicas cargadas: 80\n",
      "“Life is what happens to us while we are making other plans.”\n",
      "“I have always imagined that Paradise will be a kind of library.”\n",
      "“A reader lives a thousand lives before he dies, said Jojen. The man who never reads lives only one.”\n",
      "“If you can't explain it to a six year old, you don't understand it yourself.”\n",
      "“Beauty is in the eye of the beholder and it may be necessary from time to time to give a stupid or misinformed beholder a black eye.”\n",
      "“You don’t forget the face of the person who was your last hope.”\n",
      "“Imperfection is beauty, madness is genius and it's better to be absolutely ridiculous than absolutely boring.”\n",
      "“To love at all is to be vulnerable. Love anything and your heart will be wrung and possibly broken. If you want to make sure of keeping it intact you must give it to no one, not even an animal. Wrap it carefully round with hobbies and little luxuries; avoid all entanglements. Lock it up safe in the casket or coffin of your selfishness. But in that casket, safe, dark, motionless, airless, it will change. It will not be broken; it will become unbreakable, impenetrable, irredeemable. To love is to be vulnerable.”\n",
      "“Life isn't about finding yourself. Life is about creating yourself.”\n",
      "“Life is like riding a bicycle. To keep your balance, you must keep moving.”\n",
      "“The difference between genius and stupidity is: genius has its limits.”\n",
      "“If you only read the books that everyone else is reading, you can only think what everyone else is thinking.”\n",
      "“It is not a lack of love, but a lack of friendship that makes unhappy marriages.”\n",
      "“I like nonsense, it wakes up the brain cells. Fantasy is a necessary ingredient in living.”\n",
      "“The trouble with having an open mind, of course, is that people will insist on coming along and trying to put things in it.”\n",
      "“Good friends, good books, and a sleepy conscience: this is the ideal life.”\n",
      "“There is no friend as loyal as a book.”\n",
      "“What really knocks me out is a book that, when you're all done reading it, you wish the author that wrote it was a terrific friend of yours and you could call him up on the phone whenever you felt like it. That doesn't happen much, though.”\n",
      "“Remember, we're madly in love, so it's all right to kiss me anytime you feel like it.”\n",
      "“All you need is love. But a little chocolate now and then doesn't hurt.”\n",
      "“I am free of all prejudice. I hate everyone equally. ”\n",
      "“Do one thing every day that scares you.”\n",
      "“I may not have gone where I intended to go, but I think I have ended up where I needed to be.”\n",
      "“I love you without knowing how, or when, or from where. I love you simply, without problems or pride: I love you in this way because I do not know any other way of loving but this, in which there is no I or you, so intimate that your hand upon my chest is my hand, so intimate that when I fall asleep your eyes close.”\n",
      "“The opposite of love is not hate, it's indifference. The opposite of art is not ugliness, it's indifference. The opposite of faith is not heresy, it's indifference. And the opposite of life is not death, it's indifference.”\n",
      "“You can never get a cup of tea large enough or a book long enough to suit me.”\n",
      "“Finish each day and be done with it. You have done what you could. Some blunders and absurdities no doubt crept in; forget them as soon as you can. Tomorrow is a new day. You shall begin it serenely and with too high a spirit to be encumbered with your old nonsense.”\n",
      "“If I were not a physicist, I would probably be a musician. I often think in music. I live my daydreams in music. I see my life in terms of music.”\n",
      "“The person, be it gentleman or lady, who has not pleasure in a good novel, must be intolerably stupid.”\n",
      "“This life is what you make it. No matter what, you're going to mess up sometimes, it's a universal truth. But the good part is you get to decide how you're going to mess it up. Girls will be your friends - they'll act like it anyway. But just remember, some come, some go. The ones that stay with you through everything - they're your true best friends. Don't let go of them. Also remember, sisters make the best friends in the world. As for lovers, well, they'll come and go too. And baby, I hate to say it, most of them - actually pretty much all of them are going to break your heart, but you can't give up because if you give up, you'll never find your soulmate. You'll never find that half who makes you whole and that goes for everything. Just because you fail once, doesn't mean you're gonna fail at everything. Keep trying, hold on, and always, always, always believe in yourself, because if you don't, then who will, sweetie? So keep your head high, keep your chin up, and most importantly, keep smiling, because life's a beautiful thing and there's so much to smile about.”\n",
      "“It is never too late to be what you might have been.”\n",
      "“When one door of happiness closes, another opens; but often we look so long at the closed door that we do not see the one which has been opened for us.”\n",
      "“If you want your children to be intelligent, read them fairy tales. If you want them to be more intelligent, read them more fairy tales.”\n",
      "“A woman is like a tea bag; you never know how strong it is until it's in hot water.”\n",
      "“The world as we have created it is a process of our thinking. It cannot be changed without changing our thinking.”\n",
      "“He's like a drug for you, Bella.”\n",
      "“You may not be her first, her last, or her only. She loved before she may love again. But if she loves you now, what else matters? She's not perfect—you aren't either, and the two of you may never be perfect together but if she can make you laugh, cause you to think twice, and admit to being human and making mistakes, hold onto her and give her the most you can. She may not be thinking about you every second of the day, but she will give you a part of her that she knows you can break—her heart. So don't hurt her, don't change her, don't analyze and don't expect more than she can give. Smile when she makes you happy, let her know when she makes you mad, and miss her when she's not there.”\n",
      "“It is impossible to live without failing at something, unless you live so cautiously that you might as well not have lived at all - in which case, you fail by default.”\n",
      "“The more that you read, the more things you will know. The more that you learn, the more places you'll go.”\n",
      "“A day without sunshine is like, you know, night.”\n",
      "“There are only two ways to live your life. One is as though nothing is a miracle. The other is as though everything is a miracle.”\n",
      "“You believe lies so you eventually learn to trust no one but yourself.”\n",
      "“Try not to become a man of success. Rather become a man of value.”\n",
      "“Only in the darkness can you see the stars.”\n",
      "“We read to know we're not alone.”\n",
      "“If you can make a woman laugh, you can make her do anything.”\n",
      "“Anyone who thinks sitting in church can make you a Christian must also think that sitting in a garage can make you a car.”\n",
      "“If I had a flower for every time I thought of you...I could walk through my garden forever.”\n",
      "“Not all those who wander are lost.”\n",
      "“I have heard there are troubles of more than one kind. Some come from ahead and some come from behind. But I've bought a big bat. I'm all ready you see. Now my troubles are going to have troubles with me!”\n",
      "“Some people never go crazy. What truly horrible lives they must lead.”\n",
      "“To the well-organized mind, death is but the next great adventure.”\n",
      "“The real lover is the man who can thrill you by kissing your forehead or smiling into your eyes or just staring into space.”\n",
      "“Logic will get you from A to Z; imagination will get you everywhere.”\n",
      "“The reason I talk to myself is because I’m the only one whose answers I accept.”\n",
      "“Love does not begin and end the way we seem to think it does. Love is a battle, love is a war; love is a growing up.”\n",
      "“I have not failed. I've just found 10,000 ways that won't work.”\n",
      "“A wise girl kisses but doesn't love, listens but doesn't believe, and leaves before she is left.”\n",
      "“I have never let my schooling interfere with my education.”\n",
      "“One good thing about music, when it hits you, you feel no pain.”\n",
      "“Do not pity the dead, Harry. Pity the living, and, above all those who live without love.”\n",
      "“Think left and think right and think low and think high. Oh, the thinks you can think up if only you try!”\n",
      "“You may say I'm a dreamer, but I'm not the only one. I hope someday you'll join us. And the world will live as one.”\n",
      "“Today you are You, that is truer than true. There is no one alive who is Youer than You.”\n",
      "“It is our choices, Harry, that show what we truly are, far more than our abilities.”\n",
      "“′Classic′ - a book which people praise and don't read.”\n",
      "“I am good, but not an angel. I do sin, but I am not the devil. I am just a small girl in a big world trying to find someone to love.”\n",
      "“It matters not what someone is born, but what they grow to be.”\n",
      "“It takes a great deal of bravery to stand up to our enemies, but just as much to stand up to our friends.”\n",
      "“For every minute you are angry you lose sixty seconds of happiness.”\n",
      "“Not all of us can do great things. But we can do small things with great love.”\n",
      "“That's the problem with drinking, I thought, as I poured myself a drink. If something bad happens you drink in an attempt to forget; if something good happens you drink in order to celebrate; and if nothing happens you drink to make something happen.”\n",
      "“The question isn't who is going to let me; it's who is going to stop me.”\n",
      "“It is better to be hated for what you are than to be loved for what you are not.”\n",
      "“The truth is, everyone is going to hurt you. You just got to find the ones worth suffering for.”\n",
      "“If you judge people, you have no time to love them.”\n",
      "“There is nothing to writing. All you do is sit down at a typewriter and bleed.”\n",
      "“There is nothing I would not do for those who are really my friends. I have no notion of loving people by halves, it is not my nature.”\n",
      "“Of course it is happening inside your head, Harry, but why on earth should that mean that it is not real?”\n",
      "“Any fool can know. The point is to understand.”\n"
     ]
    }
   ],
   "source": [
    "print(f\"Total de frases únicas cargadas: {len(quotes_set)}\")\n",
    "for quote in quotes_set:\n",
    "    print(quote)"
   ]
  }
 ],
 "metadata": {
  "kernelspec": {
   "display_name": ".venv",
   "language": "python",
   "name": "python3"
  },
  "language_info": {
   "codemirror_mode": {
    "name": "ipython",
    "version": 3
   },
   "file_extension": ".py",
   "mimetype": "text/x-python",
   "name": "python",
   "nbconvert_exporter": "python",
   "pygments_lexer": "ipython3",
   "version": "3.13.7"
  }
 },
 "nbformat": 4,
 "nbformat_minor": 5
}
