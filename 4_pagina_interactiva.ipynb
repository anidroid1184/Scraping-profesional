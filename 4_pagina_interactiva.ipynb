{
 "cells": [
  {
   "cell_type": "markdown",
   "id": "13e51b69",
   "metadata": {},
   "source": [
    "# 1 ¿Páginas estáticas?"
   ]
  },
  {
   "cell_type": "code",
   "execution_count": 1,
   "id": "0dc3ff9e",
   "metadata": {},
   "outputs": [],
   "source": [
    "# importar las librerias necesarias\n",
    "import requests"
   ]
  },
  {
   "cell_type": "code",
   "execution_count": 2,
   "id": "02ceeff4",
   "metadata": {},
   "outputs": [],
   "source": [
    "url = \"http://quotes.toscrape.com/scroll\"\n",
    "website = requests.get(url)"
   ]
  },
  {
   "cell_type": "code",
   "execution_count": 3,
   "id": "4914b616",
   "metadata": {},
   "outputs": [
    {
     "name": "stdout",
     "output_type": "stream",
     "text": [
      "<!DOCTYPE html>\n",
      "<html lang=\"en\">\n",
      "<head>\n",
      "\t<meta charset=\"UTF-8\">\n",
      "\t<title>Quotes to Scrape</title>\n",
      "    <link rel=\"stylesheet\" href=\"/static/bootstrap.min.css\">\n",
      "    <link rel=\"stylesheet\" href=\"/static/main.css\">\n",
      "    \n",
      "    \n",
      "</head>\n",
      "<body>\n",
      "    <div class=\"container\">\n",
      "        <div class=\"row header-box\">\n",
      "            <div class=\"col-md-8\">\n",
      "                <h1>\n",
      "                    <a href=\"/\" style=\"text-decoration: none\">Quotes to Scrape</a>\n",
      "                </h1>\n",
      "            </div>\n",
      "            <div class=\"col-md-4\">\n",
      "                <p>\n",
      "                \n",
      "                    <a href=\"/login\">Login</a>\n",
      "                \n",
      "                </p>\n",
      "            </div>\n",
      "        </div>\n",
      "    \n",
      "<div class=\"row\">\n",
      "    <div class=\"col-md-8\">\n",
      "        <div class=\"quotes\"></div>\n",
      "    </div>\n",
      "</div>\n",
      "<div id=\"loading\" style=\"background-color: #eeeecc\"><h5>Loading...</h5></div>\n",
      "<script src=\"/static/jquery.js\"></script>\n",
      "<script>\n",
      "    $(function(){\n",
      "        var page = 1, tag = null, hasNextPage = true;\n",
      "        function appendQuotes(quotes) {\n",
      "            var $quotes = $('.quotes');\n",
      "            var html = $.map(quotes, function(d){\n",
      "                var tags = $.map(d['tags'], function(t) {\n",
      "                    return \"<a class='tag'>\" + t + \"</a>\";\n",
      "                }).join(\" \");\n",
      "                return \"<div class='quote'><span class='text'>\" + d['text'] + \"</span><span>by <small class='author'>\" + d['author']['name'] + \"</small></span><div class='tags'>Tags: \" + tags + \"</div></div>\";\n",
      "            });\n",
      "\n",
      "            $quotes.append(html);\n",
      "        }\n",
      "\n",
      "        function updatePage(page) {\n",
      "            $('#loading').show('fast');\n",
      "            $.get('/api/quotes', {page: page}).done(function(data) {\n",
      "                appendQuotes(data.quotes);\n",
      "                hasNextPage = data.has_next;\n",
      "                $('#loading').hide('fast');\n",
      "            });\n",
      "        }\n",
      "        updatePage(page);\n",
      "        $(window).on('scroll', function(){\n",
      "            var scrollTop = $(window).scrollTop();\n",
      "            var heightDiff = $(document).height() - $(window).height();\n",
      "            if (hasNextPage && Math.abs(scrollTop - heightDiff) <= 1){\n",
      "                page += 1;\n",
      "                console.log('scrolling to page: ' + page);\n",
      "                updatePage(page);\n",
      "            }\n",
      "        });\n",
      "    });\n",
      "</script>\n",
      "\n",
      "    </div>\n",
      "    <footer class=\"footer\">\n",
      "        <div class=\"container\">\n",
      "            <p class=\"text-muted\">\n",
      "                Quotes by: <a href=\"https://www.goodreads.com/quotes\">GoodReads.com</a>\n",
      "            </p>\n",
      "            <p class=\"copyright\">\n",
      "                Made with <span class='zyte'>❤</span> by <a class='zyte' href=\"https://www.zyte.com\">Zyte</a>\n",
      "            </p>\n",
      "        </div>\n",
      "    </footer>\n",
      "</body>\n",
      "</html>\n"
     ]
    }
   ],
   "source": [
    "print(website.text)"
   ]
  },
  {
   "cell_type": "markdown",
   "id": "ebb31677",
   "metadata": {},
   "source": [
    "En este tipo de páginas web, las *dínamicas*, va renderizando el *html* confomre se va actualizando, esto con un *js* incluido."
   ]
  },
  {
   "cell_type": "markdown",
   "id": "b67f5108",
   "metadata": {},
   "source": [
    "# 2 HTML renderizado vs HTML fuente\n",
    "Al hacer scraping de forma normal, obtenemos el código fuente, este dista de lo que necesitamos, ya que la información se carga **dinamicamente**\n",
    "\n",
    "Para esto usaremos la herramienta **Selenium**"
   ]
  },
  {
   "cell_type": "code",
   "execution_count": null,
   "id": "7fedc476",
   "metadata": {},
   "outputs": [],
   "source": []
  }
 ],
 "metadata": {
  "kernelspec": {
   "display_name": ".venv",
   "language": "python",
   "name": "python3"
  },
  "language_info": {
   "codemirror_mode": {
    "name": "ipython",
    "version": 3
   },
   "file_extension": ".py",
   "mimetype": "text/x-python",
   "name": "python",
   "nbconvert_exporter": "python",
   "pygments_lexer": "ipython3",
   "version": "3.13.7"
  }
 },
 "nbformat": 4,
 "nbformat_minor": 5
}
