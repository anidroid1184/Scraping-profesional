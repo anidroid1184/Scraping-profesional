{
 "cells": [
  {
   "cell_type": "markdown",
   "id": "ac9bb930",
   "metadata": {},
   "source": [
    "# 1. Dependencias\n",
    "Descargamos el chrome driver: https://sites.google.com/chromiun.org/driver/downloads\n",
    "\n",
    "E instalamos las dependencias necesarias"
   ]
  },
  {
   "cell_type": "code",
   "execution_count": null,
   "id": "40b257fa",
   "metadata": {},
   "outputs": [],
   "source": [
    "# pip install selenium webdriver-manager"
   ]
  },
  {
   "cell_type": "code",
   "execution_count": 2,
   "id": "854e32d3",
   "metadata": {},
   "outputs": [],
   "source": [
    "import time\n",
    "from bs4 import BeautifulSoup\n",
    "\n",
    "from selenium import webdriver\n",
    "from selenium.webdriver.chrome.service import Service\n",
    "\n",
    "# import necesario para la implementación\n",
    "from selenium.webdriver.common.by import By"
   ]
  },
  {
   "cell_type": "markdown",
   "id": "7109f4a4",
   "metadata": {},
   "source": [
    "# 2. Configuración del Servicio y Driver"
   ]
  },
  {
   "cell_type": "code",
   "execution_count": 3,
   "id": "52564672",
   "metadata": {},
   "outputs": [],
   "source": [
    "# Ruta del chrome driver\n",
    "chrome_driver_path = \"chromedriver.exe\" #  El archivo que está en la carpeta\n",
    "\n",
    "\n",
    "# Opcional: configurar opciones\n",
    "options = webdriver.ChromeOptions()\n",
    "options.add_argument(\"--start-maximized\") #  Iniciar en pantalla completa\n",
    "# Hacer menos detectable el scraper\n",
    "options.add_argument(\"--disable-blink-features=AutomationControlled\")\n",
    "\n",
    "\n",
    "# Crear el servicio y el driver\n",
    "service = Service(executable_path=chrome_driver_path)\n",
    "driver = webdriver.Chrome(service=service, options=options)\n",
    "\n"
   ]
  },
  {
   "cell_type": "markdown",
   "id": "d5c09517",
   "metadata": {},
   "source": [
    "# 3. Definir URL\n",
    "\n"
   ]
  },
  {
   "cell_type": "code",
   "execution_count": 4,
   "id": "8e3c86b8",
   "metadata": {},
   "outputs": [],
   "source": [
    "# abrir la url\n",
    "url = \"http://quotes.toscrape.com/scroll\"\n",
    "driver.get(url)\n",
    "\n",
    "# Esperar un momento a que se renderizen las frases\n",
    "time.sleep(3)\n",
    "\n",
    "# url para inciar sesión"
   ]
  },
  {
   "cell_type": "markdown",
   "id": "2bfec16c",
   "metadata": {},
   "source": [
    "# 4. Navegar al login"
   ]
  },
  {
   "cell_type": "code",
   "execution_count": 5,
   "id": "e5b95bf5",
   "metadata": {},
   "outputs": [],
   "source": [
    "# Encuentra el elemento login\n",
    "login_link = driver.find_element(By.LINK_TEXT, \"Login\")\n",
    "login_link.click() # cuando lo encuentre hacemos clik en el\n",
    "time.sleep(2)  # espera ligera"
   ]
  },
  {
   "cell_type": "markdown",
   "id": "86441c9f",
   "metadata": {},
   "source": [
    "Ahora llenamos los campos de usuario y contraseña"
   ]
  },
  {
   "cell_type": "code",
   "execution_count": 9,
   "id": "307bf6d6",
   "metadata": {},
   "outputs": [],
   "source": [
    "driver.find_element(By.ID, \"username\").send_keys(\"platzi-admin\")\n",
    "driver.find_element(By.ID, \"password\").send_keys(\"178\")"
   ]
  },
  {
   "cell_type": "markdown",
   "id": "c3379f75",
   "metadata": {},
   "source": [
    "Ahora el scraper debe dar click en el login"
   ]
  },
  {
   "cell_type": "code",
   "execution_count": null,
   "id": "b89f3c9e",
   "metadata": {},
   "outputs": [],
   "source": [
    "driver.find_element(By.CSS_SELECTOR, \"input[type='submit']\").click()\n",
    "time.sleep(5)"
   ]
  },
  {
   "cell_type": "markdown",
   "id": "7533fbde",
   "metadata": {},
   "source": [
    "Ahora dentro, vamos a obtener las etiquetas"
   ]
  },
  {
   "cell_type": "code",
   "execution_count": 12,
   "id": "1cf1b794",
   "metadata": {},
   "outputs": [
    {
     "name": "stdout",
     "output_type": "stream",
     "text": [
      "Top Ten Tags:\n",
      "- love\n",
      "- inspirational\n",
      "- life\n",
      "- humor\n",
      "- books\n",
      "- reading\n",
      "- friendship\n",
      "- friends\n",
      "- truth\n",
      "- simile\n"
     ]
    }
   ],
   "source": [
    "soup = BeautifulSoup(driver.page_source, \"html.parser\")  # parsear html\n",
    "tags_box = soup.find(\"div\", class_=\"tags-box\") #  Encontrar la clase que alberga las etiquetas\n",
    "# Obtener el texto de cada etiqueta por compresión\n",
    "tags = [tag.get_text(strip=True) for tag in tags_box.find_all(\"a\", class_=\"tag\")]\n",
    "\n",
    "# Imprimir los resultados\n",
    "print(\"Top Ten Tags:\")\n",
    "for tag in tags:\n",
    "    print(\"-\", tag)\n"
   ]
  },
  {
   "cell_type": "code",
   "execution_count": 13,
   "id": "ab0aaa13",
   "metadata": {},
   "outputs": [],
   "source": [
    "driver.close() #  Cerrar driver"
   ]
  },
  {
   "cell_type": "markdown",
   "id": "753bd6d1",
   "metadata": {},
   "source": [
    "# 4. Manipular Renderizado"
   ]
  },
  {
   "cell_type": "code",
   "execution_count": 14,
   "id": "0eaac468",
   "metadata": {},
   "outputs": [
    {
     "ename": "NoSuchWindowException",
     "evalue": "Message: no such window: target window already closed\nfrom unknown error: web view not found\n  (Session info: chrome=139.0.7258.155)\nStacktrace:\n\tGetHandleVerifier [0x0x7ff76b5e3d85+79397]\n\tGetHandleVerifier [0x0x7ff76b5e3de0+79488]\n\t(No symbol) [0x0x7ff76b38c0fa]\n\t(No symbol) [0x0x7ff76b364601]\n\t(No symbol) [0x0x7ff76b41257e]\n\t(No symbol) [0x0x7ff76b432c72]\n\t(No symbol) [0x0x7ff76b40af73]\n\t(No symbol) [0x0x7ff76b3d41b1]\n\t(No symbol) [0x0x7ff76b3d4f43]\n\tGetHandleVerifier [0x0x7ff76b8ae1ed+3005069]\n\tGetHandleVerifier [0x0x7ff76b8a831d+2980797]\n\tGetHandleVerifier [0x0x7ff76b8c7e0d+3110573]\n\tGetHandleVerifier [0x0x7ff76b5fd6de+184190]\n\tGetHandleVerifier [0x0x7ff76b60516f+215567]\n\tGetHandleVerifier [0x0x7ff76b5ec974+115220]\n\tGetHandleVerifier [0x0x7ff76b5ecb29+115657]\n\tGetHandleVerifier [0x0x7ff76b5d3268+11016]\n\tBaseThreadInitThunk [0x0x7fffb15de8d7+23]\n\tRtlUserThreadStart [0x0x7fffb24fc34c+44]\n",
     "output_type": "error",
     "traceback": [
      "\u001b[31m---------------------------------------------------------------------------\u001b[39m",
      "\u001b[31mNoSuchWindowException\u001b[39m                     Traceback (most recent call last)",
      "\u001b[36mCell\u001b[39m\u001b[36m \u001b[39m\u001b[32mIn[14]\u001b[39m\u001b[32m, line 2\u001b[39m\n\u001b[32m      1\u001b[39m \u001b[38;5;66;03m# Obtener HMTL renderizado\u001b[39;00m\n\u001b[32m----> \u001b[39m\u001b[32m2\u001b[39m html = \u001b[43mdriver\u001b[49m\u001b[43m.\u001b[49m\u001b[43mpage_source\u001b[49m\n\u001b[32m      3\u001b[39m driver.quit()\n\u001b[32m      5\u001b[39m \u001b[38;5;66;03m# Procesar el HTML con BeutifulSoup\u001b[39;00m\n",
      "\u001b[36mFile \u001b[39m\u001b[32mc:\\Users\\juans\\OneDrive\\Documents\\Proyectos\\Scraping profesional\\.venv\\Lib\\site-packages\\selenium\\webdriver\\remote\\webdriver.py:597\u001b[39m, in \u001b[36mWebDriver.page_source\u001b[39m\u001b[34m(self)\u001b[39m\n\u001b[32m    589\u001b[39m \u001b[38;5;129m@property\u001b[39m\n\u001b[32m    590\u001b[39m \u001b[38;5;28;01mdef\u001b[39;00m\u001b[38;5;250m \u001b[39m\u001b[34mpage_source\u001b[39m(\u001b[38;5;28mself\u001b[39m) -> \u001b[38;5;28mstr\u001b[39m:\n\u001b[32m    591\u001b[39m \u001b[38;5;250m    \u001b[39m\u001b[33;03m\"\"\"Gets the source of the current page.\u001b[39;00m\n\u001b[32m    592\u001b[39m \n\u001b[32m    593\u001b[39m \u001b[33;03m    Example:\u001b[39;00m\n\u001b[32m    594\u001b[39m \u001b[33;03m    --------\u001b[39;00m\n\u001b[32m    595\u001b[39m \u001b[33;03m    >>> print(driver.page_source)\u001b[39;00m\n\u001b[32m    596\u001b[39m \u001b[33;03m    \"\"\"\u001b[39;00m\n\u001b[32m--> \u001b[39m\u001b[32m597\u001b[39m     \u001b[38;5;28;01mreturn\u001b[39;00m \u001b[38;5;28;43mself\u001b[39;49m\u001b[43m.\u001b[49m\u001b[43mexecute\u001b[49m\u001b[43m(\u001b[49m\u001b[43mCommand\u001b[49m\u001b[43m.\u001b[49m\u001b[43mGET_PAGE_SOURCE\u001b[49m\u001b[43m)\u001b[49m[\u001b[33m\"\u001b[39m\u001b[33mvalue\u001b[39m\u001b[33m\"\u001b[39m]\n",
      "\u001b[36mFile \u001b[39m\u001b[32mc:\\Users\\juans\\OneDrive\\Documents\\Proyectos\\Scraping profesional\\.venv\\Lib\\site-packages\\selenium\\webdriver\\remote\\webdriver.py:458\u001b[39m, in \u001b[36mWebDriver.execute\u001b[39m\u001b[34m(self, driver_command, params)\u001b[39m\n\u001b[32m    455\u001b[39m response = cast(RemoteConnection, \u001b[38;5;28mself\u001b[39m.command_executor).execute(driver_command, params)\n\u001b[32m    457\u001b[39m \u001b[38;5;28;01mif\u001b[39;00m response:\n\u001b[32m--> \u001b[39m\u001b[32m458\u001b[39m     \u001b[38;5;28;43mself\u001b[39;49m\u001b[43m.\u001b[49m\u001b[43merror_handler\u001b[49m\u001b[43m.\u001b[49m\u001b[43mcheck_response\u001b[49m\u001b[43m(\u001b[49m\u001b[43mresponse\u001b[49m\u001b[43m)\u001b[49m\n\u001b[32m    459\u001b[39m     response[\u001b[33m\"\u001b[39m\u001b[33mvalue\u001b[39m\u001b[33m\"\u001b[39m] = \u001b[38;5;28mself\u001b[39m._unwrap_value(response.get(\u001b[33m\"\u001b[39m\u001b[33mvalue\u001b[39m\u001b[33m\"\u001b[39m, \u001b[38;5;28;01mNone\u001b[39;00m))\n\u001b[32m    460\u001b[39m     \u001b[38;5;28;01mreturn\u001b[39;00m response\n",
      "\u001b[36mFile \u001b[39m\u001b[32mc:\\Users\\juans\\OneDrive\\Documents\\Proyectos\\Scraping profesional\\.venv\\Lib\\site-packages\\selenium\\webdriver\\remote\\errorhandler.py:232\u001b[39m, in \u001b[36mErrorHandler.check_response\u001b[39m\u001b[34m(self, response)\u001b[39m\n\u001b[32m    230\u001b[39m         alert_text = value[\u001b[33m\"\u001b[39m\u001b[33malert\u001b[39m\u001b[33m\"\u001b[39m].get(\u001b[33m\"\u001b[39m\u001b[33mtext\u001b[39m\u001b[33m\"\u001b[39m)\n\u001b[32m    231\u001b[39m     \u001b[38;5;28;01mraise\u001b[39;00m exception_class(message, screen, stacktrace, alert_text)  \u001b[38;5;66;03m# type: ignore[call-arg]  # mypy is not smart enough here\u001b[39;00m\n\u001b[32m--> \u001b[39m\u001b[32m232\u001b[39m \u001b[38;5;28;01mraise\u001b[39;00m exception_class(message, screen, stacktrace)\n",
      "\u001b[31mNoSuchWindowException\u001b[39m: Message: no such window: target window already closed\nfrom unknown error: web view not found\n  (Session info: chrome=139.0.7258.155)\nStacktrace:\n\tGetHandleVerifier [0x0x7ff76b5e3d85+79397]\n\tGetHandleVerifier [0x0x7ff76b5e3de0+79488]\n\t(No symbol) [0x0x7ff76b38c0fa]\n\t(No symbol) [0x0x7ff76b364601]\n\t(No symbol) [0x0x7ff76b41257e]\n\t(No symbol) [0x0x7ff76b432c72]\n\t(No symbol) [0x0x7ff76b40af73]\n\t(No symbol) [0x0x7ff76b3d41b1]\n\t(No symbol) [0x0x7ff76b3d4f43]\n\tGetHandleVerifier [0x0x7ff76b8ae1ed+3005069]\n\tGetHandleVerifier [0x0x7ff76b8a831d+2980797]\n\tGetHandleVerifier [0x0x7ff76b8c7e0d+3110573]\n\tGetHandleVerifier [0x0x7ff76b5fd6de+184190]\n\tGetHandleVerifier [0x0x7ff76b60516f+215567]\n\tGetHandleVerifier [0x0x7ff76b5ec974+115220]\n\tGetHandleVerifier [0x0x7ff76b5ecb29+115657]\n\tGetHandleVerifier [0x0x7ff76b5d3268+11016]\n\tBaseThreadInitThunk [0x0x7fffb15de8d7+23]\n\tRtlUserThreadStart [0x0x7fffb24fc34c+44]\n"
     ]
    }
   ],
   "source": [
    "# Obtener HMTL renderizado\n",
    "html = driver.page_source\n",
    "driver.quit()\n",
    "\n",
    "# Procesar el HTML con BeutifulSoup\n",
    "soup = BeautifulSoup(html, \"html.parser\")\n",
    "# buscar el elemento que contiene las frases\n",
    "quotes = soup.select(\"div.quote\")\n",
    "\n",
    "print(\"Citas encontradas: \", len(quotes)) # obtenemos las citas\n",
    "\n",
    "# guardar cada cita\n",
    "for quote in quotes:\n",
    "    text = quote.find(\"span\", class_=\"text\").get_text()\n",
    "    author = quote.find(\"small\", class_=\"author\").get_text()\n",
    "    print(f\"{text} - {author}\")\n"
   ]
  },
  {
   "cell_type": "markdown",
   "id": "f917eb21",
   "metadata": {},
   "source": [
    "# 6. Scroll infinito"
   ]
  },
  {
   "cell_type": "code",
   "execution_count": null,
   "id": "f67cd07d",
   "metadata": {},
   "outputs": [],
   "source": [
    "# Ruta del chrome driver\n",
    "chrome_driver_path = \"chromedriver.exe\"  # El archivo que está en la carpeta\n",
    "\n",
    "\n",
    "# Opcional: configurar opciones\n",
    "options = webdriver.ChromeOptions()\n",
    "options.add_argument(\"--start-maximized\")  # Iniciar en pantalla completa\n",
    "# Hacer menos detectable el scraper\n",
    "options.add_argument(\"--disable-blink-features=AutomationControlled\")\n",
    "\n",
    "\n",
    "# Crear el servicio y el driver\n",
    "service = Service(executable_path=chrome_driver_path)\n",
    "driver = webdriver.Chrome(service=service, options=options)"
   ]
  },
  {
   "cell_type": "code",
   "execution_count": null,
   "id": "4099ab69",
   "metadata": {},
   "outputs": [],
   "source": [
    "# abrir la url\n",
    "url = \"http://quotes.toscrape.com/scroll\"\n",
    "driver.get(url)\n",
    "\n",
    "# Esperar un momento a que se renderizen las frases\n",
    "time.sleep(3)"
   ]
  },
  {
   "cell_type": "code",
   "execution_count": null,
   "id": "cd241af2",
   "metadata": {},
   "outputs": [],
   "source": [
    "# import necesario para la implementación\n",
    "from selenium.webdriver.common.by import By\n",
    "\n",
    "\n",
    "SCROLL_PAUSE_TIME = 2\n",
    "# obtenemos la altura del sitio, indispensable para el scroll\n",
    "last_height = driver.execute_script(\"return document.body.scrollHeight\")\n",
    "quotes_set = set()\n",
    "\n",
    "# Desplazarse varias veces\n",
    "for i in range(10):\n",
    "    # hacer el scrool\n",
    "    driver.execute_script(\"window.scrollTo(0, document.body.scrollHeight);\")\n",
    "    # tiempo de pausa para esperar que se renderice\n",
    "    new_height = driver.execute_script(\"return document.body.scrollHeight\")\n",
    "\n",
    "    # Extraer las nuevas frases cargadas en está iteración\n",
    "    quotes = driver.find_elements(By.CLASS_NAME, \"quote\")\n",
    "    # Procesar los datos obtenidos\n",
    "    for quote in quotes:\n",
    "        # obtener cada frase\n",
    "        text = quote.find_element(By.CLASS_NAME, \"text\").text\n",
    "        # añadirla a la lista de frases\n",
    "        quotes_set.add(text)\n",
    "\n",
    "    # si llega al final se cierra\n",
    "    if new_height == last_height:\n",
    "        break\n",
    "\n",
    "    # se obtiene la nueva altura\n",
    "    last_height = new_height\n",
    "\n",
    "driver.quit()"
   ]
  },
  {
   "cell_type": "code",
   "execution_count": null,
   "id": "9f93bb7a",
   "metadata": {},
   "outputs": [
    {
     "name": "stdout",
     "output_type": "stream",
     "text": [
      "Total de frases únicas cargadas: 80\n",
      "“Life is what happens to us while we are making other plans.”\n",
      "“I have always imagined that Paradise will be a kind of library.”\n",
      "“A reader lives a thousand lives before he dies, said Jojen. The man who never reads lives only one.”\n",
      "“If you can't explain it to a six year old, you don't understand it yourself.”\n",
      "“Beauty is in the eye of the beholder and it may be necessary from time to time to give a stupid or misinformed beholder a black eye.”\n",
      "“You don’t forget the face of the person who was your last hope.”\n",
      "“Imperfection is beauty, madness is genius and it's better to be absolutely ridiculous than absolutely boring.”\n",
      "“To love at all is to be vulnerable. Love anything and your heart will be wrung and possibly broken. If you want to make sure of keeping it intact you must give it to no one, not even an animal. Wrap it carefully round with hobbies and little luxuries; avoid all entanglements. Lock it up safe in the casket or coffin of your selfishness. But in that casket, safe, dark, motionless, airless, it will change. It will not be broken; it will become unbreakable, impenetrable, irredeemable. To love is to be vulnerable.”\n",
      "“Life isn't about finding yourself. Life is about creating yourself.”\n",
      "“Life is like riding a bicycle. To keep your balance, you must keep moving.”\n",
      "“The difference between genius and stupidity is: genius has its limits.”\n",
      "“If you only read the books that everyone else is reading, you can only think what everyone else is thinking.”\n",
      "“It is not a lack of love, but a lack of friendship that makes unhappy marriages.”\n",
      "“I like nonsense, it wakes up the brain cells. Fantasy is a necessary ingredient in living.”\n",
      "“The trouble with having an open mind, of course, is that people will insist on coming along and trying to put things in it.”\n",
      "“Good friends, good books, and a sleepy conscience: this is the ideal life.”\n",
      "“There is no friend as loyal as a book.”\n",
      "“What really knocks me out is a book that, when you're all done reading it, you wish the author that wrote it was a terrific friend of yours and you could call him up on the phone whenever you felt like it. That doesn't happen much, though.”\n",
      "“Remember, we're madly in love, so it's all right to kiss me anytime you feel like it.”\n",
      "“All you need is love. But a little chocolate now and then doesn't hurt.”\n",
      "“I am free of all prejudice. I hate everyone equally. ”\n",
      "“Do one thing every day that scares you.”\n",
      "“I may not have gone where I intended to go, but I think I have ended up where I needed to be.”\n",
      "“I love you without knowing how, or when, or from where. I love you simply, without problems or pride: I love you in this way because I do not know any other way of loving but this, in which there is no I or you, so intimate that your hand upon my chest is my hand, so intimate that when I fall asleep your eyes close.”\n",
      "“The opposite of love is not hate, it's indifference. The opposite of art is not ugliness, it's indifference. The opposite of faith is not heresy, it's indifference. And the opposite of life is not death, it's indifference.”\n",
      "“You can never get a cup of tea large enough or a book long enough to suit me.”\n",
      "“Finish each day and be done with it. You have done what you could. Some blunders and absurdities no doubt crept in; forget them as soon as you can. Tomorrow is a new day. You shall begin it serenely and with too high a spirit to be encumbered with your old nonsense.”\n",
      "“If I were not a physicist, I would probably be a musician. I often think in music. I live my daydreams in music. I see my life in terms of music.”\n",
      "“The person, be it gentleman or lady, who has not pleasure in a good novel, must be intolerably stupid.”\n",
      "“This life is what you make it. No matter what, you're going to mess up sometimes, it's a universal truth. But the good part is you get to decide how you're going to mess it up. Girls will be your friends - they'll act like it anyway. But just remember, some come, some go. The ones that stay with you through everything - they're your true best friends. Don't let go of them. Also remember, sisters make the best friends in the world. As for lovers, well, they'll come and go too. And baby, I hate to say it, most of them - actually pretty much all of them are going to break your heart, but you can't give up because if you give up, you'll never find your soulmate. You'll never find that half who makes you whole and that goes for everything. Just because you fail once, doesn't mean you're gonna fail at everything. Keep trying, hold on, and always, always, always believe in yourself, because if you don't, then who will, sweetie? So keep your head high, keep your chin up, and most importantly, keep smiling, because life's a beautiful thing and there's so much to smile about.”\n",
      "“It is never too late to be what you might have been.”\n",
      "“When one door of happiness closes, another opens; but often we look so long at the closed door that we do not see the one which has been opened for us.”\n",
      "“If you want your children to be intelligent, read them fairy tales. If you want them to be more intelligent, read them more fairy tales.”\n",
      "“A woman is like a tea bag; you never know how strong it is until it's in hot water.”\n",
      "“The world as we have created it is a process of our thinking. It cannot be changed without changing our thinking.”\n",
      "“He's like a drug for you, Bella.”\n",
      "“You may not be her first, her last, or her only. She loved before she may love again. But if she loves you now, what else matters? She's not perfect—you aren't either, and the two of you may never be perfect together but if she can make you laugh, cause you to think twice, and admit to being human and making mistakes, hold onto her and give her the most you can. She may not be thinking about you every second of the day, but she will give you a part of her that she knows you can break—her heart. So don't hurt her, don't change her, don't analyze and don't expect more than she can give. Smile when she makes you happy, let her know when she makes you mad, and miss her when she's not there.”\n",
      "“It is impossible to live without failing at something, unless you live so cautiously that you might as well not have lived at all - in which case, you fail by default.”\n",
      "“The more that you read, the more things you will know. The more that you learn, the more places you'll go.”\n",
      "“A day without sunshine is like, you know, night.”\n",
      "“There are only two ways to live your life. One is as though nothing is a miracle. The other is as though everything is a miracle.”\n",
      "“You believe lies so you eventually learn to trust no one but yourself.”\n",
      "“Try not to become a man of success. Rather become a man of value.”\n",
      "“Only in the darkness can you see the stars.”\n",
      "“We read to know we're not alone.”\n",
      "“If you can make a woman laugh, you can make her do anything.”\n",
      "“Anyone who thinks sitting in church can make you a Christian must also think that sitting in a garage can make you a car.”\n",
      "“If I had a flower for every time I thought of you...I could walk through my garden forever.”\n",
      "“Not all those who wander are lost.”\n",
      "“I have heard there are troubles of more than one kind. Some come from ahead and some come from behind. But I've bought a big bat. I'm all ready you see. Now my troubles are going to have troubles with me!”\n",
      "“Some people never go crazy. What truly horrible lives they must lead.”\n",
      "“To the well-organized mind, death is but the next great adventure.”\n",
      "“The real lover is the man who can thrill you by kissing your forehead or smiling into your eyes or just staring into space.”\n",
      "“Logic will get you from A to Z; imagination will get you everywhere.”\n",
      "“The reason I talk to myself is because I’m the only one whose answers I accept.”\n",
      "“Love does not begin and end the way we seem to think it does. Love is a battle, love is a war; love is a growing up.”\n",
      "“I have not failed. I've just found 10,000 ways that won't work.”\n",
      "“A wise girl kisses but doesn't love, listens but doesn't believe, and leaves before she is left.”\n",
      "“I have never let my schooling interfere with my education.”\n",
      "“One good thing about music, when it hits you, you feel no pain.”\n",
      "“Do not pity the dead, Harry. Pity the living, and, above all those who live without love.”\n",
      "“Think left and think right and think low and think high. Oh, the thinks you can think up if only you try!”\n",
      "“You may say I'm a dreamer, but I'm not the only one. I hope someday you'll join us. And the world will live as one.”\n",
      "“Today you are You, that is truer than true. There is no one alive who is Youer than You.”\n",
      "“It is our choices, Harry, that show what we truly are, far more than our abilities.”\n",
      "“′Classic′ - a book which people praise and don't read.”\n",
      "“I am good, but not an angel. I do sin, but I am not the devil. I am just a small girl in a big world trying to find someone to love.”\n",
      "“It matters not what someone is born, but what they grow to be.”\n",
      "“It takes a great deal of bravery to stand up to our enemies, but just as much to stand up to our friends.”\n",
      "“For every minute you are angry you lose sixty seconds of happiness.”\n",
      "“Not all of us can do great things. But we can do small things with great love.”\n",
      "“That's the problem with drinking, I thought, as I poured myself a drink. If something bad happens you drink in an attempt to forget; if something good happens you drink in order to celebrate; and if nothing happens you drink to make something happen.”\n",
      "“The question isn't who is going to let me; it's who is going to stop me.”\n",
      "“It is better to be hated for what you are than to be loved for what you are not.”\n",
      "“The truth is, everyone is going to hurt you. You just got to find the ones worth suffering for.”\n",
      "“If you judge people, you have no time to love them.”\n",
      "“There is nothing to writing. All you do is sit down at a typewriter and bleed.”\n",
      "“There is nothing I would not do for those who are really my friends. I have no notion of loving people by halves, it is not my nature.”\n",
      "“Of course it is happening inside your head, Harry, but why on earth should that mean that it is not real?”\n",
      "“Any fool can know. The point is to understand.”\n"
     ]
    }
   ],
   "source": [
    "print(f\"Total de frases únicas cargadas: {len(quotes_set)}\")\n",
    "for quote in quotes_set:\n",
    "    print(quote)"
   ]
  }
 ],
 "metadata": {
  "kernelspec": {
   "display_name": ".venv",
   "language": "python",
   "name": "python3"
  },
  "language_info": {
   "codemirror_mode": {
    "name": "ipython",
    "version": 3
   },
   "file_extension": ".py",
   "mimetype": "text/x-python",
   "name": "python",
   "nbconvert_exporter": "python",
   "pygments_lexer": "ipython3",
   "version": "3.13.7"
  }
 },
 "nbformat": 4,
 "nbformat_minor": 5
}
